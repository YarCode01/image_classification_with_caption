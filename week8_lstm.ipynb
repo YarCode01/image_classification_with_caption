{
  "cells": [
    {
      "attachments": {},
      "cell_type": "markdown",
      "metadata": {
        "id": "3ZZ0I8ZqUDsW"
      },
      "source": [
        "# COMP5329 - Deep Learning \n",
        "\n",
        "## Tutorial 8 - LSTM and GRU"
      ]
    },
    {
      "attachments": {},
      "cell_type": "markdown",
      "metadata": {
        "id": "ljjqH-YkUDsb"
      },
      "source": [
        "**Semester 1, 2022**\n",
        "\n",
        "**Objectives:**\n",
        "\n",
        "* How to implement LSTM and GRU in pytorch\n",
        "* How to use LSTM, GRU, RNN cell in pytorch\n",
        "* How to process sequece data by deep learning\n",
        "\n",
        "\n",
        "**Instructions:**\n",
        "\n",
        "* Learning to count letter by using RNN, LSTM and GRU\n"
      ]
    },
    {
      "attachments": {},
      "cell_type": "markdown",
      "metadata": {
        "id": "pkz2cwQDUDse"
      },
      "source": [
        "# Generate sequence data"
      ]
    },
    {
      "attachments": {},
      "cell_type": "markdown",
      "metadata": {
        "id": "7ZsneYtSUDsj"
      },
      "source": [
        "** Data instruction **\n",
        "* A-Z, a-z, 0-9\n",
        "* The differece number between the upper letters and lower letters with some noise.\n",
        "* 80000 line data, 64000 train data, 16000 validate data\n",
        "\n",
        "** Example **\n",
        "* aAA304     -1\n",
        "* bbB234BbB   0\n",
        "* ccccccC     5\n"
      ]
    },
    {
      "cell_type": "code",
      "execution_count": 2,
      "metadata": {
        "colab": {
          "base_uri": "https://localhost:8080/"
        },
        "id": "maSuzhjkUDsm",
        "outputId": "6055ed34-2a75-4f10-f367-e016372eb2c7"
      },
      "outputs": [
        {
          "name": "stdout",
          "output_type": "stream",
          "text": [
            "generate 10000 line\n",
            "generate 20000 line\n",
            "generate 30000 line\n",
            "generate 40000 line\n",
            "generate 50000 line\n",
            "generate 60000 line\n",
            "generate 70000 line\n",
            "generate 80000 line\n"
          ]
        }
      ],
      "source": [
        "import random\n",
        "\n",
        "def generate_line(input_char):\n",
        "    num1 = random.randint(1, 30)\n",
        "    num2 = random.randint(1, 30)\n",
        "    src = [chr(input_char) for _ in range(num1)] # lowercase \n",
        "    target = [chr(input_char - 32) for _ in range(num2)] # uppercase\n",
        "    src.extend(target)\n",
        "    \n",
        "    noise_num = random.randint(0, 100)\n",
        "    for _ in range(noise_num):\n",
        "        src.append(str(random.randint(0, 9))) # noise number\n",
        "    random.shuffle(src)    \n",
        "    \n",
        "    return ''.join(src), num1 - num2 + 29\n",
        "    \n",
        "\n",
        "def generate_data(size, filename):\n",
        "    f = open(filename, \"w\")\n",
        "    s = set()\n",
        "    count = 0\n",
        "    while count < size:\n",
        "        c = random.randint(ord('a'), ord('z'))\n",
        "        src, target = generate_line(c)\n",
        "        if src in s or src[::-1] in s:\n",
        "            continue\n",
        "        count += 1\n",
        "        if count % 10000 == 0:\n",
        "            print (\"generate %d line\" % count)\n",
        "        s.add(src)\n",
        "        f.write('\\t'.join([src, str(target)]))\n",
        "        f.write('\\n')\n",
        "    f.close()\n",
        "    \n",
        "generate_data(80000, \"seq.txt\")"
      ]
    },
    {
      "attachments": {},
      "cell_type": "markdown",
      "metadata": {
        "id": "QMS23zoNUDs0"
      },
      "source": [
        "# Model Training\n",
        "* Create train and val data split\n",
        "* Zero padding data and map letter to number \n",
        "* Embedding input to vector\n",
        "* Feed the RNN/LSTM/GRU with embedding sequence \n",
        "* Predict the label from the last state of sequence"
      ]
    },
    {
      "attachments": {},
      "cell_type": "markdown",
      "metadata": {
        "id": "AzvRJRpGUDs3"
      },
      "source": [
        "## Import Pytorch library, and setup global hyperparameters"
      ]
    },
    {
      "cell_type": "code",
      "execution_count": 3,
      "metadata": {
        "id": "2-q_nTOGMfpT"
      },
      "outputs": [
        {
          "name": "stderr",
          "output_type": "stream",
          "text": [
            "/Library/Frameworks/Python.framework/Versions/3.10/lib/python3.10/site-packages/tqdm/auto.py:21: TqdmWarning: IProgress not found. Please update jupyter and ipywidgets. See https://ipywidgets.readthedocs.io/en/stable/user_install.html\n",
            "  from .autonotebook import tqdm as notebook_tqdm\n"
          ]
        }
      ],
      "source": [
        "import torch\n",
        "import torch.nn as nn\n",
        "from torch.autograd import Variable\n",
        "import torch.optim as optim\n",
        "import torch.nn.functional as F\n",
        "\n",
        "gru_size = 50\n",
        "hidden_size = 50\n",
        "embedding_size = 20\n",
        "input_length = 160\n",
        "vob_size = 52 + 10 + 1\n",
        "output_size = 60\n",
        "gru_keep_prob = 0.5\n",
        "init_lr_rate = 0.001\n",
        "# decay_step = 4000\n",
        "# decay_rate = 0.5\n",
        "max_gradient_norm = 3"
      ]
    },
    {
      "attachments": {},
      "cell_type": "markdown",
      "metadata": {
        "id": "7h0LVk3hzBvU"
      },
      "source": [
        "##Define a RNN Model"
      ]
    },
    {
      "cell_type": "code",
      "execution_count": null,
      "metadata": {
        "id": "l2UQRfm1NxDF"
      },
      "outputs": [],
      "source": [
        "class RNNModel(nn.Module):\n",
        "  def __init__(self, in_feature, hidden_size, n_class):\n",
        "    super(RNNModel, self).__init__()\n",
        "    self.in_feature = in_feature\n",
        "    self.hidden_size = hidden_size\n",
        "    self.n_class = n_class\n",
        "    self.fully_connected = nn.Linear(in_feature+self.hidden_size, self.hidden_size)\n",
        "    self.pred_layer = nn.Linear(self.hidden_size, self.n_class)\n",
        "    self.tanh = nn.Tanh()\n",
        "    \n",
        "  def forward(self, input, dtype=torch.float):\n",
        "    T = input.shape[0]\n",
        "    batch_size = input.shape[1]\n",
        "    outputs = torch.zeros(size=(T, batch_size, self.hidden_size), dtype=dtype)\n",
        "    state = torch.zeros(size=(batch_size, self.hidden_size), dtype=dtype)\n",
        "\n",
        "    for t in range(T):\n",
        "      concat = torch.cat([input[t], state], dim=1)\n",
        "      state = self.tanh(self.fully_connected(concat))\n",
        "      outputs[t] = state\n",
        "    return outputs, state\n",
        "  \n",
        "  def predict(self, input_state, dtype=torch.float):\n",
        "    _, last_state = self.forward(input_state)\n",
        "    predict = self.tanh(self.pred_layer(last_state))\n",
        "    return predict"
      ]
    },
    {
      "attachments": {},
      "cell_type": "markdown",
      "metadata": {
        "id": "ZIXlSepFzKPA"
      },
      "source": [
        "##Define a LSTM Model"
      ]
    },
    {
      "cell_type": "code",
      "execution_count": 4,
      "metadata": {
        "id": "WUbEn7O-zUya"
      },
      "outputs": [],
      "source": [
        "class LSTMModel(nn.Module):\n",
        "  def __init__(self, in_feature, hidden_size, n_class):\n",
        "    super(LSTMModel, self).__init__()\n",
        "    self.in_feature = in_feature\n",
        "    self.hidden_size = hidden_size\n",
        "    self.n_class = n_class\n",
        "    self.fully_connected = nn.Linear(self.in_feature+self.hidden_size, 4 * self.hidden_size)\n",
        "    self.pred_layer = nn.Linear(self.hidden_size, self.n_class)\n",
        "    self.tanh = nn.Tanh()\n",
        "    self.sigmoid = nn.Sigmoid()\n",
        "  \n",
        "  def forward(self, input, dtype=torch.float):\n",
        "    T = input.shape[0]\n",
        "    batch_size = input.shape[1]\n",
        "    outputs = torch.zeros(size=(T, batch_size, self.hidden_size), dtype=dtype)\n",
        "    c, h = torch.unbind(torch.zeros([2, batch_size, self.hidden_size]), dim=0)\n",
        "    #implement LSTM forward procedure here\n",
        "    for t in range(T):\n",
        "      concat = torch.cat([input[t], h], dim=1)\n",
        "      concat = self.fully_connected(concat)\n",
        "      i, f, o, g = torch.split(concat, self.hidden_size, dim=1)\n",
        "      i, f, o, g = self.sigmoid(i), self.sigmoid(f), self.sigmoid(o), self.tanh(g)\n",
        "      c = f * c + i * g\n",
        "      h = o * self.tanh(c)\n",
        "      outputs[t] = h\n",
        "    \n",
        "    return outputs, h\n",
        "  \n",
        "  def predict(self, input_state, dtype=torch.float):\n",
        "    _, last_state = self.forward(input_state)\n",
        "    predict = self.pred_layer(last_state)\n",
        "    return predict\n"
      ]
    },
    {
      "attachments": {},
      "cell_type": "markdown",
      "metadata": {
        "id": "As6BbQtYzPDN"
      },
      "source": [
        "##Define a GRU Model"
      ]
    },
    {
      "cell_type": "code",
      "execution_count": null,
      "metadata": {
        "id": "vW1qalsfzVYg"
      },
      "outputs": [],
      "source": [
        "class GRUModel(nn.Module):\n",
        "  def __init__(self, in_feature, hidden_size, n_class):\n",
        "    super(GRUModel, self).__init__()\n",
        "    self.in_feature = in_feature\n",
        "    self.hidden_size = hidden_size\n",
        "    self.n_class = n_class\n",
        "    self.fully_connected_1 = nn.Linear(in_feature+self.hidden_size, 2 * self.hidden_size)\n",
        "    self.fully_connected_2 = nn.Linear(in_feature+self.hidden_size, self.hidden_size)\n",
        "    self.pred_layer = nn.Linear(self.hidden_size, self.n_class)\n",
        "    self.tanh = nn.Tanh()\n",
        "    self.sigmoid = nn.Sigmoid()\n",
        "  \n",
        "  def forward(self, input, dtype=torch.float):\n",
        "    T = input.shape[0]\n",
        "    batch_size = input.shape[1]\n",
        "    outputs = torch.zeros(size=(T, batch_size, self.hidden_size), dtype=dtype)\n",
        "    state = torch.zeros(size=(batch_size, self.hidden_size), dtype=dtype)\n",
        "    # implement GRU forward procedure here\n",
        "   \n",
        "    return outputs, state\n",
        "\n",
        "  def predict(self, input_state, dtype=torch.float):\n",
        "    _, last_state = self.forward(input_state)\n",
        "    predict = self.pred_layer(last_state)\n",
        "    return predict"
      ]
    },
    {
      "attachments": {},
      "cell_type": "markdown",
      "metadata": {
        "id": "DO_DKp_syait"
      },
      "source": [
        "## Setup Dataset, Train and Evaluate Model"
      ]
    },
    {
      "cell_type": "code",
      "execution_count": 5,
      "metadata": {
        "colab": {
          "base_uri": "https://localhost:8080/",
          "height": 1000
        },
        "id": "0RdAOq86UDs5",
        "outputId": "f05125fd-f049-43e7-abd2-51b189025dfc"
      },
      "outputs": [
        {
          "ename": "NameError",
          "evalue": "name 'RNNModel' is not defined",
          "output_type": "error",
          "traceback": [
            "\u001b[0;31m---------------------------------------------------------------------------\u001b[0m",
            "\u001b[0;31mNameError\u001b[0m                                 Traceback (most recent call last)",
            "\u001b[1;32m/Users/yaraslauivashynka/Desktop/projects/Dl_assignment2/image_classification_with_caption/week8_lstm.ipynb Cell 16\u001b[0m in \u001b[0;36m<module>\u001b[0;34m\u001b[0m\n\u001b[1;32m    <a href='vscode-notebook-cell:/Users/yaraslauivashynka/Desktop/projects/Dl_assignment2/image_classification_with_caption/week8_lstm.ipynb#X21sZmlsZQ%3D%3D?line=131'>132</a>\u001b[0m maps \u001b[39m=\u001b[39m create_maps()\n\u001b[1;32m    <a href='vscode-notebook-cell:/Users/yaraslauivashynka/Desktop/projects/Dl_assignment2/image_classification_with_caption/week8_lstm.ipynb#X21sZmlsZQ%3D%3D?line=132'>133</a>\u001b[0m func_type \u001b[39m=\u001b[39m \u001b[39m\"\u001b[39m\u001b[39mrnn\u001b[39m\u001b[39m\"\u001b[39m \u001b[39m# rnn/lstm/gru\u001b[39;00m\n\u001b[0;32m--> <a href='vscode-notebook-cell:/Users/yaraslauivashynka/Desktop/projects/Dl_assignment2/image_classification_with_caption/week8_lstm.ipynb#X21sZmlsZQ%3D%3D?line=133'>134</a>\u001b[0m train_model(maps, func_type)\n",
            "\u001b[1;32m/Users/yaraslauivashynka/Desktop/projects/Dl_assignment2/image_classification_with_caption/week8_lstm.ipynb Cell 16\u001b[0m in \u001b[0;36mtrain_model\u001b[0;34m(maps, func_type)\u001b[0m\n\u001b[1;32m     <a href='vscode-notebook-cell:/Users/yaraslauivashynka/Desktop/projects/Dl_assignment2/image_classification_with_caption/week8_lstm.ipynb#X21sZmlsZQ%3D%3D?line=66'>67</a>\u001b[0m pointer \u001b[39m=\u001b[39m \u001b[39m0\u001b[39m\n\u001b[1;32m     <a href='vscode-notebook-cell:/Users/yaraslauivashynka/Desktop/projects/Dl_assignment2/image_classification_with_caption/week8_lstm.ipynb#X21sZmlsZQ%3D%3D?line=67'>68</a>\u001b[0m \u001b[39mif\u001b[39;00m func_type \u001b[39m==\u001b[39m \u001b[39m'\u001b[39m\u001b[39mrnn\u001b[39m\u001b[39m'\u001b[39m:\n\u001b[0;32m---> <a href='vscode-notebook-cell:/Users/yaraslauivashynka/Desktop/projects/Dl_assignment2/image_classification_with_caption/week8_lstm.ipynb#X21sZmlsZQ%3D%3D?line=68'>69</a>\u001b[0m   model \u001b[39m=\u001b[39m RNNModel(embedding_size, hidden_size, output_size)\n\u001b[1;32m     <a href='vscode-notebook-cell:/Users/yaraslauivashynka/Desktop/projects/Dl_assignment2/image_classification_with_caption/week8_lstm.ipynb#X21sZmlsZQ%3D%3D?line=69'>70</a>\u001b[0m \u001b[39melif\u001b[39;00m func_type \u001b[39m==\u001b[39m \u001b[39m'\u001b[39m\u001b[39mlstm\u001b[39m\u001b[39m'\u001b[39m:\n\u001b[1;32m     <a href='vscode-notebook-cell:/Users/yaraslauivashynka/Desktop/projects/Dl_assignment2/image_classification_with_caption/week8_lstm.ipynb#X21sZmlsZQ%3D%3D?line=70'>71</a>\u001b[0m   model \u001b[39m=\u001b[39m LSTMModel(embedding_size, gru_size, output_size)\n",
            "\u001b[0;31mNameError\u001b[0m: name 'RNNModel' is not defined"
          ]
        }
      ],
      "source": [
        "import os\n",
        "import random\n",
        "import time\n",
        "import sys\n",
        "import gc\n",
        "import numpy as np\n",
        "\n",
        "MAX_ITERATIONS = 100000\n",
        "VAL_INTERVAL = 1000\n",
        "PRINT_INTERVAL = 10\n",
        "batch_size = 64\n",
        "\n",
        "def read_dataset(file_name):\n",
        "    f = open(file_name)\n",
        "    ls = []\n",
        "    for line in f.readlines():\n",
        "        line = line.strip() \n",
        "        l = line.split('\\t')\n",
        "        ls.append([l[0], int(l[1])])\n",
        "    \n",
        "    random.shuffle(ls)\n",
        "    return ls[:64000], ls[64000:]\n",
        "\n",
        "\n",
        "#map letter to number \n",
        "#a-z -> 1 - 26\n",
        "#A-Z -> 27 - 52\n",
        "#0-9 -> 53 - 62\n",
        "def create_maps():\n",
        "    dic = {}\n",
        "    counter = 1\n",
        "    for i in range(ord('a'), ord('z') + 1):\n",
        "        dic[chr(i)] = counter\n",
        "        counter += 1\n",
        "    \n",
        "    for i in range(ord('A'), ord('Z') + 1):\n",
        "        dic[chr(i)] = counter\n",
        "        counter += 1\n",
        "        \n",
        "    for i in range(ord('0'), ord('9') + 1):\n",
        "        dic[chr(i)] = counter\n",
        "        counter += 1\n",
        "    \n",
        "    return dic\n",
        "\n",
        "def word_embedding(input_seq, vob_size, dtype=torch.float):\n",
        "    word_embed = nn.Embedding(vob_size, embedding_size)\n",
        "    embeddings = word_embed(input_seq.long())\n",
        "    return embeddings\n",
        "\n",
        "def create_batch(datas, maps):\n",
        "    size = len(datas)\n",
        "    seqs = np.zeros((size, input_length), dtype = np.int32)\n",
        "    labels = np.zeros(size, dtype = np.int32)\n",
        "    for i in range(size):\n",
        "        labels[i] = datas[i][1]\n",
        "        seq = datas[i][0]\n",
        "        l = input_length - len(seq) # zero padding\n",
        "        for j in range(len(seq)):\n",
        "            seqs[i][l + j] = maps[seq[j]] \n",
        "        \n",
        "    return seqs, labels\n",
        "\n",
        "\n",
        "def train_model(maps, func_type):\n",
        "  train_data, val_data = read_dataset(\"seq.txt\")\n",
        "  pointer = 0\n",
        "  if func_type == 'rnn':\n",
        "    model = RNNModel(embedding_size, hidden_size, output_size)\n",
        "  elif func_type == 'lstm':\n",
        "    model = LSTMModel(embedding_size, gru_size, output_size)\n",
        "  elif func_type == 'gru':\n",
        "    model = GRUModel(embedding_size, gru_size, output_size)\n",
        "  else:\n",
        "    print('Please specify a valid model!')\n",
        "    return\n",
        "  model.train()\n",
        "  optimizer = optim.Adam(model.parameters(), lr=init_lr_rate)\n",
        "  model_loss = nn.CrossEntropyLoss()\n",
        "  step_time, loss = 0.0, 0.0\n",
        "  for step in range(MAX_ITERATIONS + 1):\n",
        "    start_time = time.time()\n",
        "    if pointer + batch_size >= len(train_data):\n",
        "      random.shuffle(train_data)\n",
        "      pointer = 0\n",
        "    datas = train_data[pointer:pointer + batch_size]\n",
        "    pointer += batch_size\n",
        "    input_seq, label = create_batch(datas, maps)\n",
        "    input_seq, label = torch.from_numpy(input_seq), torch.from_numpy(label)\n",
        "    seq_emb = word_embedding(input_seq, vob_size)\n",
        "    input_seq_emb = seq_emb.permute(1,0,2) \n",
        "    out = model.predict(input_seq_emb)\n",
        "    step_loss = model_loss(out, label.long())\n",
        "    optimizer.zero_grad()\n",
        "    step_loss.backward()\n",
        "    torch.nn.utils.clip_grad_norm_(model.parameters(), max_gradient_norm)\n",
        "    optimizer.step()\n",
        "    end_time = time.time()\n",
        "    step_time += (end_time - start_time)\n",
        "    loss += step_loss\n",
        "    \n",
        "    if step % PRINT_INTERVAL == 0:\n",
        "      step_time = step_time / PRINT_INTERVAL\n",
        "      loss = loss / PRINT_INTERVAL\n",
        "      print (\"step %d, time %.3f, loss %.3f\" % (step, step_time, loss))\n",
        "      step_time, loss = 0.0, 0.0\n",
        "      \n",
        "    if step % VAL_INTERVAL == 0:\n",
        "      model.eval()\n",
        "      val_rate = val_model(model, val_data, maps)\n",
        "      model.train()\n",
        "      print(\"val accuracy is %.3f \" % (val_rate))\n",
        "\n",
        "def val_model(model, dataset, maps):\n",
        "  start_pointer = 0\n",
        "  end_pointer = start_pointer + batch_size\n",
        "  total = 0\n",
        "  with torch.no_grad():\n",
        "    while start_pointer < len(dataset):\n",
        "      datas = dataset[start_pointer: end_pointer]\n",
        "      start_pointer += batch_size\n",
        "      end_pointer = min(start_pointer + batch_size, len(dataset))\n",
        "      input_seq, label = create_batch(datas, maps)\n",
        "      input_seq, label = torch.from_numpy(input_seq), torch.from_numpy(label)\n",
        "      seq_emb = word_embedding(input_seq, vob_size)\n",
        "      input_seq_emb = seq_emb.permute(1,0,2)\n",
        "      answers = model.predict(input_seq_emb)\n",
        "      answer_ids = np.argmax(answers.detach().numpy(), axis = -1)\n",
        "      total += np.sum(label.detach().numpy() == answer_ids)\n",
        "    return 1.0 * total / len(dataset)\n",
        "\n",
        "maps = create_maps()\n",
        "func_type = \"lstm\" # rnn/lstm/gru\n",
        "train_model(maps, func_type)\n",
        "    \n",
        "    \n",
        "\n",
        "  "
      ]
    },
    {
      "attachments": {},
      "cell_type": "markdown",
      "metadata": {
        "id": "7La8MgT9UDtI"
      },
      "source": [
        "# Exercise \n",
        "* Implement RNN, LSTM, GRU by basic pytorch function\n",
        "* Try to adjust parameters in model to achieve better performance"
      ]
    }
  ],
  "metadata": {
    "colab": {
      "provenance": []
    },
    "kernelspec": {
      "display_name": "Python 3",
      "language": "python",
      "name": "python3"
    },
    "language_info": {
      "codemirror_mode": {
        "name": "ipython",
        "version": 3
      },
      "file_extension": ".py",
      "mimetype": "text/x-python",
      "name": "python",
      "nbconvert_exporter": "python",
      "pygments_lexer": "ipython3",
      "version": "3.10.4"
    }
  },
  "nbformat": 4,
  "nbformat_minor": 0
}
